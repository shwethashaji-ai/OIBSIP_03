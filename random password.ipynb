{
 "cells": [
  {
   "cell_type": "code",
   "execution_count": null,
   "id": "c5193450-fcff-4791-bf82-686cd7ae93ae",
   "metadata": {},
   "outputs": [
    {
     "name": "stderr",
     "output_type": "stream",
     "text": [
      "2025-02-20 19:04:03.055 python[5065:112101] +[IMKClient subclass]: chose IMKClient_Modern\n",
      "2025-02-20 19:04:03.055 python[5065:112101] +[IMKInputSession subclass]: chose IMKInputSession_Modern\n"
     ]
    }
   ],
   "source": [
    "import random\n",
    "import string\n",
    "import tkinter as tk\n",
    "from tkinter import messagebox\n",
    "\n",
    "# Function to generate password\n",
    "def generate_password():\n",
    "    try:\n",
    "        length = int(length_var.get())\n",
    "        use_letters = letters_var.get()\n",
    "        use_numbers = numbers_var.get()\n",
    "        use_symbols = symbols_var.get()\n",
    "\n",
    "        char_pool = \"\"\n",
    "        if use_letters:\n",
    "            char_pool += string.ascii_letters\n",
    "        if use_numbers:\n",
    "            char_pool += string.digits\n",
    "        if use_symbols:\n",
    "            char_pool += string.punctuation\n",
    "        \n",
    "        if not char_pool:\n",
    "            messagebox.showerror(\"Error\", \"Select at least one character type!\")\n",
    "            return\n",
    "\n",
    "        password = \"\".join(random.choice(char_pool) for _ in range(length))\n",
    "        password_var.set(password)\n",
    "    except ValueError:\n",
    "        messagebox.showerror(\"Error\", \"Please enter a valid number for password length.\")\n",
    "\n",
    "# Function to copy password to clipboard\n",
    "def copy_to_clipboard():\n",
    "    root.clipboard_clear()\n",
    "    root.clipboard_append(password_var.get())\n",
    "    root.update()\n",
    "    messagebox.showinfo(\"Copied\", \"Password copied to clipboard!\")\n",
    "\n",
    "# GUI Setup\n",
    "root = tk.Tk()\n",
    "root.title(\"Password Generator\")\n",
    "root.geometry(\"400x300\")\n",
    "\n",
    "# Variables\n",
    "length_var = tk.StringVar(value=\"12\")\n",
    "letters_var = tk.BooleanVar(value=True)\n",
    "numbers_var = tk.BooleanVar(value=True)\n",
    "symbols_var = tk.BooleanVar(value=True)\n",
    "password_var = tk.StringVar()\n",
    "\n",
    "# Widgets\n",
    "tk.Label(root, text=\"Password Length:\").pack(pady=5)\n",
    "tk.Entry(root, textvariable=length_var, width=5).pack()\n",
    "\n",
    "tk.Checkbutton(root, text=\"Include Letters\", variable=letters_var).pack()\n",
    "tk.Checkbutton(root, text=\"Include Numbers\", variable=numbers_var).pack()\n",
    "tk.Checkbutton(root, text=\"Include Symbols\", variable=symbols_var).pack()\n",
    "\n",
    "tk.Button(root, text=\"Generate Password\", command=generate_password).pack(pady=10)\n",
    "tk.Entry(root, textvariable=password_var, width=30, state=\"readonly\").pack()\n",
    "tk.Button(root, text=\"Copy to Clipboard\", command=copy_to_clipboard).pack(pady=5)\n",
    "\n",
    "# Run\n",
    "root.mainloop()\n"
   ]
  },
  {
   "cell_type": "code",
   "execution_count": null,
   "id": "fb3ae618-3ece-4613-ad48-5c4b9cf1934b",
   "metadata": {},
   "outputs": [],
   "source": []
  }
 ],
 "metadata": {
  "kernelspec": {
   "display_name": "Python 3 (ipykernel)",
   "language": "python",
   "name": "python3"
  },
  "language_info": {
   "codemirror_mode": {
    "name": "ipython",
    "version": 3
   },
   "file_extension": ".py",
   "mimetype": "text/x-python",
   "name": "python",
   "nbconvert_exporter": "python",
   "pygments_lexer": "ipython3",
   "version": "3.11.7"
  }
 },
 "nbformat": 4,
 "nbformat_minor": 5
}
